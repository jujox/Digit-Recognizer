{
 "cells": [
  {
   "cell_type": "code",
   "execution_count": null,
   "metadata": {},
   "outputs": [],
   "source": [
    "import pandas as pd\n",
    "import numpy as np\n",
    "\n",
    "train_set_images = pd.read_csv('train.csv')\n"
   ]
  },
  {
   "cell_type": "code",
   "execution_count": null,
   "metadata": {},
   "outputs": [],
   "source": [
    "import matplotlib.pyplot as plt, matplotlib.image as mpimg\n",
    "%matplotlib inline\n",
    "\n",
    "# Let's draw some image\n",
    "random_example = np.random.randint(0, len(train_set_images) - 1, 1)\n",
    "some_number = train_set_images.iloc[random_example[0]]\n",
    "pixels = some_number[1:].values.reshape((28,28))\n",
    "plt.imshow(pixels,cmap='gray')\n",
    "plt.title(some_number[0])"
   ]
  },
  {
   "cell_type": "code",
   "execution_count": null,
   "metadata": {},
   "outputs": [],
   "source": [
    "from sklearn.neural_network import MLPClassifier\n",
    "from sklearn.model_selection import train_test_split\n",
    "\n",
    "clf = MLPClassifier(solver='sgd', alpha=0.0001, hidden_layer_sizes=(100, 100, 100), random_state=1, verbose=10)\n",
    "labels = train_set_images['label']\n",
    "pixels = train_set_images.iloc[:,1:]\n",
    "pixels_train, pixels_test, labels_train, labels_test = train_test_split(pixels,labels, test_size= 0.2, random_state=27)\n",
    "clf.fit(pixels_train, labels_train)\n"
   ]
  },
  {
   "cell_type": "code",
   "execution_count": null,
   "metadata": {},
   "outputs": [],
   "source": [
    "predictions = clf.predict(pixels_test)\n",
    "from sklearn.metrics import accuracy_score\n",
    "accuracy_score(labels_test, predictions)"
   ]
  },
  {
   "cell_type": "code",
   "execution_count": null,
   "metadata": {},
   "outputs": [],
   "source": [
    "test_set_images = pd.read_csv('test.csv')\n",
    "predictions_test_set = clf.predict(test_set_images)\n",
    "df = pd.DataFrame(predictions_test_set)\n",
    "df.index.name='ImageId'\n",
    "df.index+=1\n",
    "df.columns=['Label']\n",
    "df.to_csv('results.csv', header=True, index = True, index_label = 'ImageId')"
   ]
  },
  {
   "cell_type": "code",
   "execution_count": null,
   "metadata": {},
   "outputs": [],
   "source": []
  }
 ],
 "metadata": {
  "kernelspec": {
   "display_name": "Python 2",
   "language": "python",
   "name": "python2"
  },
  "language_info": {
   "codemirror_mode": {
    "name": "ipython",
    "version": 2
   },
   "file_extension": ".py",
   "mimetype": "text/x-python",
   "name": "python",
   "nbconvert_exporter": "python",
   "pygments_lexer": "ipython2",
   "version": "2.7.14"
  }
 },
 "nbformat": 4,
 "nbformat_minor": 2
}
